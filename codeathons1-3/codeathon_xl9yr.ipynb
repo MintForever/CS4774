{
  "nbformat": 4,
  "nbformat_minor": 0,
  "metadata": {
    "colab": {
      "name": "codeathon_xl9yr.ipynb",
      "provenance": [],
      "collapsed_sections": [],
      "toc_visible": true
    },
    "kernelspec": {
      "name": "python3",
      "display_name": "Python 3"
    }
  },
  "cells": [
    {
      "cell_type": "code",
      "metadata": {
        "id": "wYYLQfaSCGcr",
        "colab_type": "code",
        "colab": {}
      },
      "source": [
        "import sklearn\n",
        "import numpy as np\n",
        "import os \n",
        "np.random.seed(42)\n",
        "# To plot pretty figures\n",
        "%matplotlib inline\n",
        "import matplotlib as mpl\n",
        "import matplotlib.pyplot as plt\n",
        "mpl.rc('axes', labelsize=14)\n",
        "mpl.rc('xtick', labelsize=12)\n",
        "mpl.rc('ytick', labelsize=12)\n",
        "\n",
        "# Where to save the figures\n",
        "PROJECT_ROOT_DIR = \".\"\n",
        "CHAPTER_ID = \"end_to_end_project\"\n",
        "IMAGES_PATH = os.path.join(PROJECT_ROOT_DIR, \"images\", CHAPTER_ID)\n",
        "os.makedirs(IMAGES_PATH, exist_ok=True)\n",
        "\n",
        "def save_fig(fig_id, tight_layout=True, fig_extension=\"png\", resolution=300):\n",
        "  \"\"\"Save the selected figure into disc under an image extention and resolution\n",
        "\n",
        "  Parameters\n",
        "  ----------\n",
        "  fig_id : figure handle\n",
        "    The id number of the figure\n",
        "  tight_layout : boolean (True or False)\n",
        "    Specifies whenther the layout should be tight or not\n",
        "  fig_extension: string\n",
        "    Under what extension should the file be saved (\"png\" or \"jpg\")\n",
        "  resolution: int\n",
        "    the quality of the figure (ie. 100,200,300)\n",
        "\n",
        "  Returns\n",
        "  -------\n",
        "  void\n",
        "    Does not return any value\n",
        "  \"\"\"\n",
        "\n",
        "  path = os.path.join(IMAGES_PATH, fig_id + \".\" + fig_extension)\n",
        "  print(\"Saving figure\", fig_id)\n",
        "  if tight_layout:\n",
        "    plt.tight_layout()\n",
        "  plt.savefig(path, format=fig_extension, dpi=resolution)"
      ],
      "execution_count": 0,
      "outputs": []
    },
    {
      "cell_type": "code",
      "metadata": {
        "id": "vu5ydigWEWDi",
        "colab_type": "code",
        "colab": {}
      },
      "source": [
        "import tarfile # to support compressed (tar) files\n",
        "from six.moves import urllib # support URL download\n",
        "import csv\n",
        "#HOUSING_PATH = os.path.join(\"datasets\", \"housing\")\n",
        "HOUSING_PATH = os.path.join(\".\",\"data\")\n",
        "HOUSING_URL = \"https://raw.githubusercontent.com/OAHC2022/ML-4774/master/codeathon/housing.csv\"\n",
        "\n",
        "def fetch_housing_data(housing_url=HOUSING_URL, housing_path=HOUSING_PATH):\n",
        "    \"\"\"Fetch housing data from a remote URL to Colab file system\"\"\"\n",
        "    if not os.path.isdir(housing_path):\n",
        "        os.makedirs(housing_path)\n",
        "    csv_path = os.path.join(housing_path, \"raw_housing.csv\")\n",
        "    urllib.request.urlretrieve(housing_url, csv_path)\n",
        "    raw_housing = open(csv_path)\n",
        "    info = raw_housing.readlines()\n",
        "    raw_housing.close()\n",
        "    \n",
        "    new_file_path = os.path.join(housing_path, \"housing.csv\")\n",
        "    with open(new_file_path,mode='w',newline='') as csvfile:\n",
        "      writer = csv.writer(csvfile,delimiter=',')\n",
        "      writer.writerow([\"CRIM\",\"ZN\",\"INDUS\",\"CHAS\",\"NOX\",\"RM\",\"AGE\",\"DIS\",\"RAD\",\"TAX\",\"PTRATIO\",\"B\",\"LSTAT\",\"MEDV\"])\n",
        "      for i in info:\n",
        "        writer.writerow(i.split())"
      ],
      "execution_count": 0,
      "outputs": []
    },
    {
      "cell_type": "code",
      "metadata": {
        "id": "-TPVZHe-FYlO",
        "colab_type": "code",
        "colab": {}
      },
      "source": [
        "fetch_housing_data()"
      ],
      "execution_count": 0,
      "outputs": []
    },
    {
      "cell_type": "code",
      "metadata": {
        "id": "u4Nl_RmtAoeW",
        "colab_type": "code",
        "colab": {}
      },
      "source": [
        "import pandas as pd # Pandas module to enable data manipulation\n",
        "\n",
        "def load_housing_data(housing_path=HOUSING_PATH):\n",
        "    \"\"\"Load Housing Data into Workspace from a CSV\"\"\"\n",
        "    csv_path = os.path.join(housing_path, \"housing.csv\")\n",
        "    return pd.read_csv(csv_path)"
      ],
      "execution_count": 0,
      "outputs": []
    },
    {
      "cell_type": "code",
      "metadata": {
        "id": "ps9fwhVSBjBg",
        "colab_type": "code",
        "colab": {}
      },
      "source": [
        "housing = load_housing_data()\n"
      ],
      "execution_count": 0,
      "outputs": []
    },
    {
      "cell_type": "code",
      "metadata": {
        "id": "KRadpWoENRc3",
        "colab_type": "code",
        "outputId": "0687012a-e57e-4d65-efbb-e0e599bd2086",
        "colab": {
          "base_uri": "https://localhost:8080/",
          "height": 1000
        }
      },
      "source": [
        "%matplotlib inline\n",
        "import matplotlib.pyplot as plt\n",
        "housing.hist(bins=50, figsize=(20,15))\n",
        "save_fig(\"attribute_histogram_plots\")\n",
        "plt.show()"
      ],
      "execution_count": 21,
      "outputs": [
        {
          "output_type": "stream",
          "text": [
            "Saving figure attribute_histogram_plots\n"
          ],
          "name": "stdout"
        },
        {
          "output_type": "display_data",
          "data": {
            "image/png": "[encoded data removed]",
            "text/plain": [
              "<Figure size 1440x1080 with 16 Axes>"
            ]
          },
          "metadata": {
            "tags": []
          }
        }
      ]
    },
    {
      "cell_type": "code",
      "metadata": {
        "id": "iN4TwNm-PEb1",
        "colab_type": "code",
        "colab": {}
      },
      "source": [
        "import numpy as np\n",
        "\n",
        "# For illustration only. Sklearn has train_test_split()\n",
        "def split_train_test(data, test_ratio):\n",
        "    \"\"\"An simple implementation of the spliting into train and test sets\"\"\"\n",
        "    shuffled_indices = np.random.permutation(len(data)) # Give it random indexes\n",
        "    test_set_size = int(len(data) * test_ratio) # split into ratio\n",
        "    test_indices = shuffled_indices[:test_set_size] # extract index of test examples\n",
        "    train_indices = shuffled_indices[test_set_size:] # extract index of train examples\n",
        "    return data.iloc[train_indices], data.iloc[test_indices] # return the splited data"
      ],
      "execution_count": 0,
      "outputs": []
    },
    {
      "cell_type": "code",
      "metadata": {
        "id": "ZxIp9MSbPH2K",
        "colab_type": "code",
        "outputId": "61629461-1272-4fe4-bb01-a5286e1dfe67",
        "colab": {
          "base_uri": "https://localhost:8080/",
          "height": 50
        }
      },
      "source": [
        "train_set, test_set = split_train_test(housing, 0.2)\n",
        "\n",
        "len(train_set)\n",
        "print(train_set.shape)\n",
        "print(test_set.shape)"
      ],
      "execution_count": 23,
      "outputs": [
        {
          "output_type": "stream",
          "text": [
            "(405, 14)\n",
            "(101, 14)\n"
          ],
          "name": "stdout"
        }
      ]
    },
    {
      "cell_type": "code",
      "metadata": {
        "id": "35s7ej06Hqz9",
        "colab_type": "code",
        "colab": {}
      },
      "source": [
        "from sklearn.model_selection import train_test_split\n",
        "\n",
        "train_set, test_set = train_test_split(housing, test_size=0.2, random_state=42)"
      ],
      "execution_count": 0,
      "outputs": []
    },
    {
      "cell_type": "code",
      "metadata": {
        "id": "Ift8ruVPHq0W",
        "colab_type": "code",
        "colab": {}
      },
      "source": [
        "# Make a copy of the stratified train set\n",
        "housing = train_set.copy()\n"
      ],
      "execution_count": 0,
      "outputs": []
    },
    {
      "cell_type": "code",
      "metadata": {
        "id": "L3M9AchcHq0m",
        "colab_type": "code",
        "colab": {}
      },
      "source": [
        "# Use corr() to see the correlations (aka Standard Correlation Coefficient or Pearson's r) among the features of the dataset\n",
        "corr_matrix = housing.corr()"
      ],
      "execution_count": 0,
      "outputs": []
    },
    {
      "cell_type": "code",
      "metadata": {
        "id": "SToAFpFTHq0p",
        "colab_type": "code",
        "outputId": "dfba07cf-0b19-47e5-a28d-50b4cd0ca436",
        "colab": {
          "base_uri": "https://localhost:8080/",
          "height": 269
        }
      },
      "source": [
        "# Let's look at how much each feature correlates to the house value \n",
        "corr_matrix[\"MEDV\"].sort_values(ascending=False)"
      ],
      "execution_count": 27,
      "outputs": [
        {
          "output_type": "execute_result",
          "data": {
            "text/plain": [
              "MEDV       1.000000\n",
              "RM         0.710680\n",
              "B          0.339918\n",
              "ZN         0.309504\n",
              "DIS        0.235114\n",
              "CHAS       0.190642\n",
              "AGE       -0.340216\n",
              "CRIM      -0.380091\n",
              "RAD       -0.387467\n",
              "NOX       -0.415768\n",
              "TAX       -0.459795\n",
              "INDUS     -0.470546\n",
              "PTRATIO   -0.491210\n",
              "LSTAT     -0.736422\n",
              "Name: MEDV, dtype: float64"
            ]
          },
          "metadata": {
            "tags": []
          },
          "execution_count": 27
        }
      ]
    },
    {
      "cell_type": "code",
      "metadata": {
        "id": "nWFrn-9IHq02",
        "colab_type": "code",
        "colab": {}
      },
      "source": [
        "# Create the features and labels for training\n",
        "housing = train_set.drop(\"MEDV\", axis=1) # drop labels for training set\n",
        "housing_labels = train_set[\"MEDV\"].copy()\n",
        "\n",
        "\n"
      ],
      "execution_count": 0,
      "outputs": []
    },
    {
      "cell_type": "code",
      "metadata": {
        "id": "azXSvel5Hq18",
        "colab_type": "code",
        "outputId": "f3a86e42-638a-43e1-aed3-e61f344f371a",
        "colab": {
          "base_uri": "https://localhost:8080/",
          "height": 34
        }
      },
      "source": [
        "\n",
        "from sklearn.linear_model import LinearRegression\n",
        "from sklearn.pipeline import Pipeline\n",
        "from sklearn.preprocessing import StandardScaler\n",
        "\n",
        "housing_prepared = housing\n",
        "lin_reg = LinearRegression()\n",
        "lin_reg.fit(housing_prepared, housing_labels)"
      ],
      "execution_count": 29,
      "outputs": [
        {
          "output_type": "execute_result",
          "data": {
            "text/plain": [
              "LinearRegression(copy_X=True, fit_intercept=True, n_jobs=None, normalize=False)"
            ]
          },
          "metadata": {
            "tags": []
          },
          "execution_count": 29
        }
      ]
    },
    {
      "cell_type": "code",
      "metadata": {
        "id": "1fcA1sekHq2G",
        "colab_type": "code",
        "outputId": "a364163e-258d-4f67-c9cd-044bff5c90e3",
        "colab": {
          "base_uri": "https://localhost:8080/",
          "height": 34
        }
      },
      "source": [
        "from sklearn.metrics import mean_squared_error\n",
        "\n",
        "housing_predictions = lin_reg.predict(housing_prepared)\n",
        "lin_mse = mean_squared_error(housing_labels, housing_predictions)\n",
        "lin_rmse = np.sqrt(lin_mse)\n",
        "lin_rmse"
      ],
      "execution_count": 30,
      "outputs": [
        {
          "output_type": "execute_result",
          "data": {
            "text/plain": [
              "4.6520331848801675"
            ]
          },
          "metadata": {
            "tags": []
          },
          "execution_count": 30
        }
      ]
    },
    {
      "cell_type": "code",
      "metadata": {
        "id": "i56j8ufHHq2I",
        "colab_type": "code",
        "outputId": "eeae606b-6ad2-495f-b55f-e4d5b326c078",
        "colab": {
          "base_uri": "https://localhost:8080/",
          "height": 34
        }
      },
      "source": [
        "from sklearn.metrics import mean_absolute_error\n",
        "\n",
        "lin_mae = mean_absolute_error(housing_labels, housing_predictions)\n",
        "lin_mae"
      ],
      "execution_count": 31,
      "outputs": [
        {
          "output_type": "execute_result",
          "data": {
            "text/plain": [
              "3.314771626783228"
            ]
          },
          "metadata": {
            "tags": []
          },
          "execution_count": 31
        }
      ]
    },
    {
      "cell_type": "code",
      "metadata": {
        "id": "eRYt9eYpn682",
        "colab_type": "code",
        "outputId": "d7f61fcc-c43f-40dd-a79d-41160efde668",
        "colab": {
          "base_uri": "https://localhost:8080/",
          "height": 34
        }
      },
      "source": [
        "from sklearn.tree import DecisionTreeRegressor\n",
        "\n",
        "tree_reg = DecisionTreeRegressor(random_state=42)\n",
        "tree_reg.fit(housing_prepared, housing_labels)\n",
        "\n",
        "housing_predictions = tree_reg.predict(housing_prepared)\n",
        "tree_mse = mean_squared_error(housing_labels, housing_predictions)\n",
        "tree_rmse = np.sqrt(tree_mse)\n",
        "tree_rmse"
      ],
      "execution_count": 32,
      "outputs": [
        {
          "output_type": "execute_result",
          "data": {
            "text/plain": [
              "0.0"
            ]
          },
          "metadata": {
            "tags": []
          },
          "execution_count": 32
        }
      ]
    },
    {
      "cell_type": "code",
      "metadata": {
        "id": "E4n_oNDhoXzK",
        "colab_type": "code",
        "outputId": "c4c82b1e-75fa-4020-820f-c77b031f490c",
        "colab": {
          "base_uri": "https://localhost:8080/",
          "height": 67
        }
      },
      "source": [
        "from sklearn.model_selection import cross_val_score\n",
        "\n",
        "scores = cross_val_score(tree_reg, housing_prepared, housing_labels,\n",
        "                         scoring=\"neg_mean_squared_error\", cv=5)\n",
        "tree_rmse_scores = np.sqrt(-scores)\n",
        "\n",
        "def display_scores(scores):\n",
        "    print(\"Scores:\", scores)\n",
        "    print(\"Mean:\", scores.mean())\n",
        "    print(\"Standard deviation:\", scores.std())\n",
        "\n",
        "display_scores(tree_rmse_scores)"
      ],
      "execution_count": 33,
      "outputs": [
        {
          "output_type": "stream",
          "text": [
            "Scores: [4.93924821 6.02036667 5.13067512 6.34748905 4.51727241]\n",
            "Mean: 5.39101029034062\n",
            "Standard deviation: 0.6850142109435617\n"
          ],
          "name": "stdout"
        }
      ]
    },
    {
      "cell_type": "code",
      "metadata": {
        "id": "e36Hp24To1aq",
        "colab_type": "code",
        "outputId": "70d2f253-d443-4983-cc72-b4d007410f9e",
        "colab": {
          "base_uri": "https://localhost:8080/",
          "height": 84
        }
      },
      "source": [
        "lin_scores = cross_val_score(lin_reg, housing_prepared, housing_labels,\n",
        "                             scoring=\"neg_mean_squared_error\", cv=10)\n",
        "lin_rmse_scores = np.sqrt(-lin_scores)\n",
        "display_scores(lin_rmse_scores)"
      ],
      "execution_count": 34,
      "outputs": [
        {
          "output_type": "stream",
          "text": [
            "Scores: [3.76298481 4.25110998 5.34719644 6.71464778 4.59265163 5.17395941\n",
            " 4.43145447 4.5777583  3.6723473  5.77030866]\n",
            "Mean: 4.829441880454281\n",
            "Standard deviation: 0.8896329730748506\n"
          ],
          "name": "stdout"
        }
      ]
    },
    {
      "cell_type": "code",
      "metadata": {
        "id": "Nb2r1c5EJrhO",
        "colab_type": "code",
        "outputId": "9d128450-ead9-458a-cc16-2cdd276f01e6",
        "colab": {
          "base_uri": "https://localhost:8080/",
          "height": 134
        }
      },
      "source": [
        "from sklearn.ensemble import RandomForestRegressor\n",
        "\n",
        "forest_reg = RandomForestRegressor(n_estimators=100, random_state=42)\n",
        "forest_reg.fit(housing_prepared, housing_labels)"
      ],
      "execution_count": 35,
      "outputs": [
        {
          "output_type": "execute_result",
          "data": {
            "text/plain": [
              "RandomForestRegressor(bootstrap=True, ccp_alpha=0.0, criterion='mse',\n",
              "                      max_depth=None, max_features='auto', max_leaf_nodes=None,\n",
              "                      max_samples=None, min_impurity_decrease=0.0,\n",
              "                      min_impurity_split=None, min_samples_leaf=1,\n",
              "                      min_samples_split=2, min_weight_fraction_leaf=0.0,\n",
              "                      n_estimators=100, n_jobs=None, oob_score=False,\n",
              "                      random_state=42, verbose=0, warm_start=False)"
            ]
          },
          "metadata": {
            "tags": []
          },
          "execution_count": 35
        }
      ]
    },
    {
      "cell_type": "code",
      "metadata": {
        "id": "nxHXhInIKCNR",
        "colab_type": "code",
        "outputId": "79ce3516-8b77-4754-956a-b2e96dec0d06",
        "colab": {
          "base_uri": "https://localhost:8080/",
          "height": 34
        }
      },
      "source": [
        "housing_predictions = forest_reg.predict(housing_prepared)\n",
        "forest_mse = mean_squared_error(housing_labels, housing_predictions)\n",
        "forest_rmse = np.sqrt(forest_mse)\n",
        "forest_rmse"
      ],
      "execution_count": 36,
      "outputs": [
        {
          "output_type": "execute_result",
          "data": {
            "text/plain": [
              "1.409453259281417"
            ]
          },
          "metadata": {
            "tags": []
          },
          "execution_count": 36
        }
      ]
    },
    {
      "cell_type": "code",
      "metadata": {
        "id": "vGhLZY8dMEU6",
        "colab_type": "code",
        "outputId": "e83a4e81-370d-4f72-c50a-b2a17575ba2c",
        "colab": {
          "base_uri": "https://localhost:8080/",
          "height": 84
        }
      },
      "source": [
        "from sklearn.model_selection import cross_val_score\n",
        "\n",
        "forest_scores = cross_val_score(forest_reg, housing_prepared, housing_labels,\n",
        "                                scoring=\"neg_mean_squared_error\", cv=10)\n",
        "forest_rmse_scores = np.sqrt(-forest_scores)\n",
        "display_scores(forest_rmse_scores)"
      ],
      "execution_count": 37,
      "outputs": [
        {
          "output_type": "stream",
          "text": [
            "Scores: [3.14867985 3.41513628 2.85968014 5.45864135 4.78700206 2.95979371\n",
            " 3.87185168 2.74707284 2.49503876 4.76253751]\n",
            "Mean: 3.6505434165753408\n",
            "Standard deviation: 0.9699277345049182\n"
          ],
          "name": "stdout"
        }
      ]
    },
    {
      "cell_type": "code",
      "metadata": {
        "id": "VDi2Gx0mWGE5",
        "colab_type": "code",
        "outputId": "6135932f-bda1-4275-f037-0b8b7d29e836",
        "colab": {
          "base_uri": "https://localhost:8080/",
          "height": 370
        }
      },
      "source": [
        "from sklearn.model_selection import GridSearchCV\n",
        "\n",
        "param_grid = [\n",
        "    # try 12 (3×4) combinations of hyperparameters\n",
        "    {'n_estimators': [3, 10, 30], 'max_features': [2, 4, 6, 8]},\n",
        "    # then try 6 (2×3) combinations with bootstrap set as False\n",
        "    {'bootstrap': [False], 'n_estimators': [3, 10], 'max_features': [2, 3, 4]},\n",
        "  ]\n",
        "\n",
        "forest_reg = RandomForestRegressor(random_state=42)\n",
        "# train across 5 folds, that's a total of ? rounds of training \n",
        "grid_search = GridSearchCV(forest_reg, param_grid, cv=5,\n",
        "                           scoring='neg_mean_squared_error',\n",
        "                           return_train_score=True)\n",
        "grid_search.fit(housing_prepared, housing_labels)"
      ],
      "execution_count": 38,
      "outputs": [
        {
          "output_type": "execute_result",
          "data": {
            "text/plain": [
              "GridSearchCV(cv=5, error_score=nan,\n",
              "             estimator=RandomForestRegressor(bootstrap=True, ccp_alpha=0.0,\n",
              "                                             criterion='mse', max_depth=None,\n",
              "                                             max_features='auto',\n",
              "                                             max_leaf_nodes=None,\n",
              "                                             max_samples=None,\n",
              "                                             min_impurity_decrease=0.0,\n",
              "                                             min_impurity_split=None,\n",
              "                                             min_samples_leaf=1,\n",
              "                                             min_samples_split=2,\n",
              "                                             min_weight_fraction_leaf=0.0,\n",
              "                                             n_estimators=100, n_jobs=None,\n",
              "                                             oob_score=False, random_state=42,\n",
              "                                             verbose=0, warm_start=False),\n",
              "             iid='deprecated', n_jobs=None,\n",
              "             param_grid=[{'max_features': [2, 4, 6, 8],\n",
              "                          'n_estimators': [3, 10, 30]},\n",
              "                         {'bootstrap': [False], 'max_features': [2, 3, 4],\n",
              "                          'n_estimators': [3, 10]}],\n",
              "             pre_dispatch='2*n_jobs', refit=True, return_train_score=True,\n",
              "             scoring='neg_mean_squared_error', verbose=0)"
            ]
          },
          "metadata": {
            "tags": []
          },
          "execution_count": 38
        }
      ]
    },
    {
      "cell_type": "code",
      "metadata": {
        "id": "nuDzVtHrWZ2J",
        "colab_type": "code",
        "outputId": "18681596-8269-492e-aa1c-b402568bf1aa",
        "colab": {
          "base_uri": "https://localhost:8080/",
          "height": 34
        }
      },
      "source": [
        "grid_search.best_params_"
      ],
      "execution_count": 39,
      "outputs": [
        {
          "output_type": "execute_result",
          "data": {
            "text/plain": [
              "{'max_features': 6, 'n_estimators': 30}"
            ]
          },
          "metadata": {
            "tags": []
          },
          "execution_count": 39
        }
      ]
    },
    {
      "cell_type": "code",
      "metadata": {
        "id": "Xub9yCrJWdqk",
        "colab_type": "code",
        "outputId": "98084b3a-5310-40bf-8305-e381521271d6",
        "colab": {
          "base_uri": "https://localhost:8080/",
          "height": 134
        }
      },
      "source": [
        "grid_search.best_estimator_"
      ],
      "execution_count": 40,
      "outputs": [
        {
          "output_type": "execute_result",
          "data": {
            "text/plain": [
              "RandomForestRegressor(bootstrap=True, ccp_alpha=0.0, criterion='mse',\n",
              "                      max_depth=None, max_features=6, max_leaf_nodes=None,\n",
              "                      max_samples=None, min_impurity_decrease=0.0,\n",
              "                      min_impurity_split=None, min_samples_leaf=1,\n",
              "                      min_samples_split=2, min_weight_fraction_leaf=0.0,\n",
              "                      n_estimators=30, n_jobs=None, oob_score=False,\n",
              "                      random_state=42, verbose=0, warm_start=False)"
            ]
          },
          "metadata": {
            "tags": []
          },
          "execution_count": 40
        }
      ]
    },
    {
      "cell_type": "code",
      "metadata": {
        "id": "dTF0rUxQWiUg",
        "colab_type": "code",
        "outputId": "9bc0c219-3207-4c13-99f4-a43ca4187377",
        "colab": {
          "base_uri": "https://localhost:8080/",
          "height": 319
        }
      },
      "source": [
        "cvres = grid_search.cv_results_\n",
        "# zip() is to combine the column \"mean_test_score\" with struct \"params\"\n",
        "for mean_score, params in zip(cvres[\"mean_test_score\"], cvres[\"params\"]):\n",
        "    print(np.sqrt(-mean_score), params)"
      ],
      "execution_count": 41,
      "outputs": [
        {
          "output_type": "stream",
          "text": [
            "4.839103625942133 {'max_features': 2, 'n_estimators': 3}\n",
            "4.182114762390252 {'max_features': 2, 'n_estimators': 10}\n",
            "3.9613930619270388 {'max_features': 2, 'n_estimators': 30}\n",
            "5.010726248531535 {'max_features': 4, 'n_estimators': 3}\n",
            "3.970547126602063 {'max_features': 4, 'n_estimators': 10}\n",
            "3.7649105480532006 {'max_features': 4, 'n_estimators': 30}\n",
            "4.26826673556444 {'max_features': 6, 'n_estimators': 3}\n",
            "3.8652947123037027 {'max_features': 6, 'n_estimators': 10}\n",
            "3.6375269606663765 {'max_features': 6, 'n_estimators': 30}\n",
            "4.380856205970893 {'max_features': 8, 'n_estimators': 3}\n",
            "3.7789497214058803 {'max_features': 8, 'n_estimators': 10}\n",
            "3.7075538764680926 {'max_features': 8, 'n_estimators': 30}\n",
            "4.206258356561079 {'bootstrap': False, 'max_features': 2, 'n_estimators': 3}\n",
            "3.8908428821186463 {'bootstrap': False, 'max_features': 2, 'n_estimators': 10}\n",
            "4.109509431070862 {'bootstrap': False, 'max_features': 3, 'n_estimators': 3}\n",
            "3.819048408962631 {'bootstrap': False, 'max_features': 3, 'n_estimators': 10}\n",
            "4.299086155166854 {'bootstrap': False, 'max_features': 4, 'n_estimators': 3}\n",
            "3.733053010309092 {'bootstrap': False, 'max_features': 4, 'n_estimators': 10}\n"
          ],
          "name": "stdout"
        }
      ]
    },
    {
      "cell_type": "code",
      "metadata": {
        "id": "BGyvCtlDWwyF",
        "colab_type": "code",
        "outputId": "d7a7146f-b723-4397-996c-7fe97e440943",
        "colab": {
          "base_uri": "https://localhost:8080/",
          "height": 1000
        }
      },
      "source": [
        "# View the research results in table format\n",
        "pd.DataFrame(grid_search.cv_results_)"
      ],
      "execution_count": 42,
      "outputs": [
        {
          "output_type": "execute_result",
          "data": {
            "text/html": [
              "<div>\n",
              "<style scoped>\n",
              "    .dataframe tbody tr th:only-of-type {\n",
              "        vertical-align: middle;\n",
              "    }\n",
              "\n",
              "    .dataframe tbody tr th {\n",
              "        vertical-align: top;\n",
              "    }\n",
              "\n",
              "    .dataframe thead th {\n",
              "        text-align: right;\n",
              "    }\n",
              "</style>\n",
              "<table border=\"1\" class=\"dataframe\">\n",
              "  <thead>\n",
              "    <tr style=\"text-align: right;\">\n",
              "      <th></th>\n",
              "      <th>mean_fit_time</th>\n",
              "      <th>std_fit_time</th>\n",
              "      <th>mean_score_time</th>\n",
              "      <th>std_score_time</th>\n",
              "      <th>param_max_features</th>\n",
              "      <th>param_n_estimators</th>\n",
              "      <th>param_bootstrap</th>\n",
              "      <th>params</th>\n",
              "      <th>split0_test_score</th>\n",
              "      <th>split1_test_score</th>\n",
              "      <th>split2_test_score</th>\n",
              "      <th>split3_test_score</th>\n",
              "      <th>split4_test_score</th>\n",
              "      <th>mean_test_score</th>\n",
              "      <th>std_test_score</th>\n",
              "      <th>rank_test_score</th>\n",
              "      <th>split0_train_score</th>\n",
              "      <th>split1_train_score</th>\n",
              "      <th>split2_train_score</th>\n",
              "      <th>split3_train_score</th>\n",
              "      <th>split4_train_score</th>\n",
              "      <th>mean_train_score</th>\n",
              "      <th>std_train_score</th>\n",
              "    </tr>\n",
              "  </thead>\n",
              "  <tbody>\n",
              "    <tr>\n",
              "      <th>0</th>\n",
              "      <td>0.009315</td>\n",
              "      <td>0.002096</td>\n",
              "      <td>0.001905</td>\n",
              "      <td>0.000102</td>\n",
              "      <td>2</td>\n",
              "      <td>3</td>\n",
              "      <td>NaN</td>\n",
              "      <td>{'max_features': 2, 'n_estimators': 3}</td>\n",
              "      <td>-17.823512</td>\n",
              "      <td>-30.405281</td>\n",
              "      <td>-24.514636</td>\n",
              "      <td>-18.763676</td>\n",
              "      <td>-25.577514</td>\n",
              "      <td>-23.416924</td>\n",
              "      <td>4.640027</td>\n",
              "      <td>17</td>\n",
              "      <td>-5.651634e+00</td>\n",
              "      <td>-6.434424e+00</td>\n",
              "      <td>-4.403020e+00</td>\n",
              "      <td>-5.400399e+00</td>\n",
              "      <td>-8.686495e+00</td>\n",
              "      <td>-6.115194e+00</td>\n",
              "      <td>1.440198e+00</td>\n",
              "    </tr>\n",
              "    <tr>\n",
              "      <th>1</th>\n",
              "      <td>0.019372</td>\n",
              "      <td>0.000515</td>\n",
              "      <td>0.002638</td>\n",
              "      <td>0.000219</td>\n",
              "      <td>2</td>\n",
              "      <td>10</td>\n",
              "      <td>NaN</td>\n",
              "      <td>{'max_features': 2, 'n_estimators': 10}</td>\n",
              "      <td>-12.754056</td>\n",
              "      <td>-24.449932</td>\n",
              "      <td>-15.912659</td>\n",
              "      <td>-13.837999</td>\n",
              "      <td>-20.495774</td>\n",
              "      <td>-17.490084</td>\n",
              "      <td>4.375605</td>\n",
              "      <td>12</td>\n",
              "      <td>-3.282502e+00</td>\n",
              "      <td>-3.455298e+00</td>\n",
              "      <td>-2.648772e+00</td>\n",
              "      <td>-3.353178e+00</td>\n",
              "      <td>-3.886080e+00</td>\n",
              "      <td>-3.325166e+00</td>\n",
              "      <td>3.979124e-01</td>\n",
              "    </tr>\n",
              "    <tr>\n",
              "      <th>2</th>\n",
              "      <td>0.053274</td>\n",
              "      <td>0.001843</td>\n",
              "      <td>0.004260</td>\n",
              "      <td>0.000278</td>\n",
              "      <td>2</td>\n",
              "      <td>30</td>\n",
              "      <td>NaN</td>\n",
              "      <td>{'max_features': 2, 'n_estimators': 30}</td>\n",
              "      <td>-12.385221</td>\n",
              "      <td>-19.596318</td>\n",
              "      <td>-15.523682</td>\n",
              "      <td>-12.257049</td>\n",
              "      <td>-18.700905</td>\n",
              "      <td>-15.692635</td>\n",
              "      <td>3.067873</td>\n",
              "      <td>9</td>\n",
              "      <td>-2.271310e+00</td>\n",
              "      <td>-2.006099e+00</td>\n",
              "      <td>-2.163580e+00</td>\n",
              "      <td>-2.561024e+00</td>\n",
              "      <td>-2.433412e+00</td>\n",
              "      <td>-2.287085e+00</td>\n",
              "      <td>1.954020e-01</td>\n",
              "    </tr>\n",
              "    <tr>\n",
              "      <th>3</th>\n",
              "      <td>0.008205</td>\n",
              "      <td>0.000832</td>\n",
              "      <td>0.001867</td>\n",
              "      <td>0.000208</td>\n",
              "      <td>4</td>\n",
              "      <td>3</td>\n",
              "      <td>NaN</td>\n",
              "      <td>{'max_features': 4, 'n_estimators': 3}</td>\n",
              "      <td>-22.000494</td>\n",
              "      <td>-34.519822</td>\n",
              "      <td>-25.887833</td>\n",
              "      <td>-23.769726</td>\n",
              "      <td>-19.359014</td>\n",
              "      <td>-25.107378</td>\n",
              "      <td>5.170859</td>\n",
              "      <td>18</td>\n",
              "      <td>-6.421201e+00</td>\n",
              "      <td>-5.398115e+00</td>\n",
              "      <td>-5.693729e+00</td>\n",
              "      <td>-7.918029e+00</td>\n",
              "      <td>-6.957229e+00</td>\n",
              "      <td>-6.477660e+00</td>\n",
              "      <td>9.041905e-01</td>\n",
              "    </tr>\n",
              "    <tr>\n",
              "      <th>4</th>\n",
              "      <td>0.021650</td>\n",
              "      <td>0.000667</td>\n",
              "      <td>0.002664</td>\n",
              "      <td>0.000479</td>\n",
              "      <td>4</td>\n",
              "      <td>10</td>\n",
              "      <td>NaN</td>\n",
              "      <td>{'max_features': 4, 'n_estimators': 10}</td>\n",
              "      <td>-13.071628</td>\n",
              "      <td>-19.737020</td>\n",
              "      <td>-14.614421</td>\n",
              "      <td>-14.111637</td>\n",
              "      <td>-17.291516</td>\n",
              "      <td>-15.765244</td>\n",
              "      <td>2.425650</td>\n",
              "      <td>10</td>\n",
              "      <td>-3.316386e+00</td>\n",
              "      <td>-2.967084e+00</td>\n",
              "      <td>-2.850778e+00</td>\n",
              "      <td>-3.061384e+00</td>\n",
              "      <td>-3.055826e+00</td>\n",
              "      <td>-3.050291e+00</td>\n",
              "      <td>1.534204e-01</td>\n",
              "    </tr>\n",
              "    <tr>\n",
              "      <th>5</th>\n",
              "      <td>0.060183</td>\n",
              "      <td>0.003200</td>\n",
              "      <td>0.003973</td>\n",
              "      <td>0.000305</td>\n",
              "      <td>4</td>\n",
              "      <td>30</td>\n",
              "      <td>NaN</td>\n",
              "      <td>{'max_features': 4, 'n_estimators': 30}</td>\n",
              "      <td>-11.445843</td>\n",
              "      <td>-19.022061</td>\n",
              "      <td>-13.896848</td>\n",
              "      <td>-11.181240</td>\n",
              "      <td>-15.326764</td>\n",
              "      <td>-14.174551</td>\n",
              "      <td>2.874329</td>\n",
              "      <td>4</td>\n",
              "      <td>-2.088906e+00</td>\n",
              "      <td>-2.197785e+00</td>\n",
              "      <td>-1.912169e+00</td>\n",
              "      <td>-2.442342e+00</td>\n",
              "      <td>-2.108590e+00</td>\n",
              "      <td>-2.149959e+00</td>\n",
              "      <td>1.730654e-01</td>\n",
              "    </tr>\n",
              "    <tr>\n",
              "      <th>6</th>\n",
              "      <td>0.009184</td>\n",
              "      <td>0.000156</td>\n",
              "      <td>0.001888</td>\n",
              "      <td>0.000101</td>\n",
              "      <td>6</td>\n",
              "      <td>3</td>\n",
              "      <td>NaN</td>\n",
              "      <td>{'max_features': 6, 'n_estimators': 3}</td>\n",
              "      <td>-17.615267</td>\n",
              "      <td>-20.117901</td>\n",
              "      <td>-19.645226</td>\n",
              "      <td>-17.302346</td>\n",
              "      <td>-16.409764</td>\n",
              "      <td>-18.218101</td>\n",
              "      <td>1.422535</td>\n",
              "      <td>14</td>\n",
              "      <td>-6.408277e+00</td>\n",
              "      <td>-4.773013e+00</td>\n",
              "      <td>-4.031211e+00</td>\n",
              "      <td>-5.550375e+00</td>\n",
              "      <td>-7.287829e+00</td>\n",
              "      <td>-5.610141e+00</td>\n",
              "      <td>1.153172e+00</td>\n",
              "    </tr>\n",
              "    <tr>\n",
              "      <th>7</th>\n",
              "      <td>0.022957</td>\n",
              "      <td>0.000559</td>\n",
              "      <td>0.002266</td>\n",
              "      <td>0.000267</td>\n",
              "      <td>6</td>\n",
              "      <td>10</td>\n",
              "      <td>NaN</td>\n",
              "      <td>{'max_features': 6, 'n_estimators': 10}</td>\n",
              "      <td>-11.928769</td>\n",
              "      <td>-19.604394</td>\n",
              "      <td>-16.165040</td>\n",
              "      <td>-12.259112</td>\n",
              "      <td>-14.745201</td>\n",
              "      <td>-14.940503</td>\n",
              "      <td>2.812469</td>\n",
              "      <td>7</td>\n",
              "      <td>-3.075297e+00</td>\n",
              "      <td>-2.545455e+00</td>\n",
              "      <td>-2.557962e+00</td>\n",
              "      <td>-2.567962e+00</td>\n",
              "      <td>-2.945561e+00</td>\n",
              "      <td>-2.738447e+00</td>\n",
              "      <td>2.259424e-01</td>\n",
              "    </tr>\n",
              "    <tr>\n",
              "      <th>8</th>\n",
              "      <td>0.065315</td>\n",
              "      <td>0.002032</td>\n",
              "      <td>0.004120</td>\n",
              "      <td>0.000267</td>\n",
              "      <td>6</td>\n",
              "      <td>30</td>\n",
              "      <td>NaN</td>\n",
              "      <td>{'max_features': 6, 'n_estimators': 30}</td>\n",
              "      <td>-10.160751</td>\n",
              "      <td>-18.926063</td>\n",
              "      <td>-12.561263</td>\n",
              "      <td>-9.714557</td>\n",
              "      <td>-14.795379</td>\n",
              "      <td>-13.231602</td>\n",
              "      <td>3.379981</td>\n",
              "      <td>1</td>\n",
              "      <td>-2.051593e+00</td>\n",
              "      <td>-1.917295e+00</td>\n",
              "      <td>-1.830829e+00</td>\n",
              "      <td>-2.228932e+00</td>\n",
              "      <td>-1.979343e+00</td>\n",
              "      <td>-2.001598e+00</td>\n",
              "      <td>1.348666e-01</td>\n",
              "    </tr>\n",
              "    <tr>\n",
              "      <th>9</th>\n",
              "      <td>0.009949</td>\n",
              "      <td>0.000239</td>\n",
              "      <td>0.001852</td>\n",
              "      <td>0.000151</td>\n",
              "      <td>8</td>\n",
              "      <td>3</td>\n",
              "      <td>NaN</td>\n",
              "      <td>{'max_features': 8, 'n_estimators': 3}</td>\n",
              "      <td>-16.677257</td>\n",
              "      <td>-23.991674</td>\n",
              "      <td>-18.752209</td>\n",
              "      <td>-18.178422</td>\n",
              "      <td>-18.359944</td>\n",
              "      <td>-19.191901</td>\n",
              "      <td>2.500955</td>\n",
              "      <td>16</td>\n",
              "      <td>-5.396581e+00</td>\n",
              "      <td>-4.463254e+00</td>\n",
              "      <td>-4.754771e+00</td>\n",
              "      <td>-5.622693e+00</td>\n",
              "      <td>-6.105665e+00</td>\n",
              "      <td>-5.268593e+00</td>\n",
              "      <td>5.924595e-01</td>\n",
              "    </tr>\n",
              "    <tr>\n",
              "      <th>10</th>\n",
              "      <td>0.027094</td>\n",
              "      <td>0.000667</td>\n",
              "      <td>0.002518</td>\n",
              "      <td>0.000131</td>\n",
              "      <td>8</td>\n",
              "      <td>10</td>\n",
              "      <td>NaN</td>\n",
              "      <td>{'max_features': 8, 'n_estimators': 10}</td>\n",
              "      <td>-13.753969</td>\n",
              "      <td>-19.726590</td>\n",
              "      <td>-12.247143</td>\n",
              "      <td>-10.991399</td>\n",
              "      <td>-14.683204</td>\n",
              "      <td>-14.280461</td>\n",
              "      <td>3.001734</td>\n",
              "      <td>5</td>\n",
              "      <td>-2.532404e+00</td>\n",
              "      <td>-2.715901e+00</td>\n",
              "      <td>-2.386822e+00</td>\n",
              "      <td>-2.925043e+00</td>\n",
              "      <td>-2.832595e+00</td>\n",
              "      <td>-2.678553e+00</td>\n",
              "      <td>1.961365e-01</td>\n",
              "    </tr>\n",
              "    <tr>\n",
              "      <th>11</th>\n",
              "      <td>0.073090</td>\n",
              "      <td>0.001630</td>\n",
              "      <td>0.004008</td>\n",
              "      <td>0.000291</td>\n",
              "      <td>8</td>\n",
              "      <td>30</td>\n",
              "      <td>NaN</td>\n",
              "      <td>{'max_features': 8, 'n_estimators': 30}</td>\n",
              "      <td>-12.594294</td>\n",
              "      <td>-18.994218</td>\n",
              "      <td>-12.049233</td>\n",
              "      <td>-9.737523</td>\n",
              "      <td>-15.354511</td>\n",
              "      <td>-13.745956</td>\n",
              "      <td>3.175041</td>\n",
              "      <td>2</td>\n",
              "      <td>-2.086489e+00</td>\n",
              "      <td>-1.954172e+00</td>\n",
              "      <td>-1.837397e+00</td>\n",
              "      <td>-2.083364e+00</td>\n",
              "      <td>-2.015126e+00</td>\n",
              "      <td>-1.995310e+00</td>\n",
              "      <td>9.283171e-02</td>\n",
              "    </tr>\n",
              "    <tr>\n",
              "      <th>12</th>\n",
              "      <td>0.007443</td>\n",
              "      <td>0.000335</td>\n",
              "      <td>0.001769</td>\n",
              "      <td>0.000092</td>\n",
              "      <td>2</td>\n",
              "      <td>3</td>\n",
              "      <td>False</td>\n",
              "      <td>{'bootstrap': False, 'max_features': 2, 'n_est...</td>\n",
              "      <td>-14.441495</td>\n",
              "      <td>-23.870384</td>\n",
              "      <td>-15.981056</td>\n",
              "      <td>-17.638875</td>\n",
              "      <td>-16.531236</td>\n",
              "      <td>-17.692609</td>\n",
              "      <td>3.256247</td>\n",
              "      <td>13</td>\n",
              "      <td>-1.100791e-04</td>\n",
              "      <td>-2.718273e-30</td>\n",
              "      <td>-2.896560e-30</td>\n",
              "      <td>-2.779330e-30</td>\n",
              "      <td>-3.206573e-30</td>\n",
              "      <td>-2.201582e-05</td>\n",
              "      <td>4.403165e-05</td>\n",
              "    </tr>\n",
              "    <tr>\n",
              "      <th>13</th>\n",
              "      <td>0.017765</td>\n",
              "      <td>0.000545</td>\n",
              "      <td>0.002455</td>\n",
              "      <td>0.000140</td>\n",
              "      <td>2</td>\n",
              "      <td>10</td>\n",
              "      <td>False</td>\n",
              "      <td>{'bootstrap': False, 'max_features': 2, 'n_est...</td>\n",
              "      <td>-12.411031</td>\n",
              "      <td>-18.048014</td>\n",
              "      <td>-14.783311</td>\n",
              "      <td>-11.982811</td>\n",
              "      <td>-18.468125</td>\n",
              "      <td>-15.138658</td>\n",
              "      <td>2.723060</td>\n",
              "      <td>8</td>\n",
              "      <td>-9.907121e-06</td>\n",
              "      <td>-1.031625e-29</td>\n",
              "      <td>-1.074365e-29</td>\n",
              "      <td>-1.091217e-29</td>\n",
              "      <td>-1.088823e-29</td>\n",
              "      <td>-1.981424e-06</td>\n",
              "      <td>3.962848e-06</td>\n",
              "    </tr>\n",
              "    <tr>\n",
              "      <th>14</th>\n",
              "      <td>0.007629</td>\n",
              "      <td>0.000120</td>\n",
              "      <td>0.001746</td>\n",
              "      <td>0.000117</td>\n",
              "      <td>3</td>\n",
              "      <td>3</td>\n",
              "      <td>False</td>\n",
              "      <td>{'bootstrap': False, 'max_features': 3, 'n_est...</td>\n",
              "      <td>-15.202277</td>\n",
              "      <td>-13.798505</td>\n",
              "      <td>-25.920521</td>\n",
              "      <td>-14.920480</td>\n",
              "      <td>-14.598556</td>\n",
              "      <td>-16.888068</td>\n",
              "      <td>4.540612</td>\n",
              "      <td>11</td>\n",
              "      <td>-2.906330e-30</td>\n",
              "      <td>-2.718273e-30</td>\n",
              "      <td>-2.896560e-30</td>\n",
              "      <td>-2.779330e-30</td>\n",
              "      <td>-3.206573e-30</td>\n",
              "      <td>-2.901413e-30</td>\n",
              "      <td>1.682944e-31</td>\n",
              "    </tr>\n",
              "    <tr>\n",
              "      <th>15</th>\n",
              "      <td>0.020889</td>\n",
              "      <td>0.000940</td>\n",
              "      <td>0.002784</td>\n",
              "      <td>0.000258</td>\n",
              "      <td>3</td>\n",
              "      <td>10</td>\n",
              "      <td>False</td>\n",
              "      <td>{'bootstrap': False, 'max_features': 3, 'n_est...</td>\n",
              "      <td>-11.750874</td>\n",
              "      <td>-15.283720</td>\n",
              "      <td>-15.657319</td>\n",
              "      <td>-11.766988</td>\n",
              "      <td>-18.466754</td>\n",
              "      <td>-14.585131</td>\n",
              "      <td>2.556543</td>\n",
              "      <td>6</td>\n",
              "      <td>-1.045546e-29</td>\n",
              "      <td>-1.031625e-29</td>\n",
              "      <td>-1.074365e-29</td>\n",
              "      <td>-1.091217e-29</td>\n",
              "      <td>-1.088823e-29</td>\n",
              "      <td>-1.066315e-29</td>\n",
              "      <td>2.377504e-31</td>\n",
              "    </tr>\n",
              "    <tr>\n",
              "      <th>16</th>\n",
              "      <td>0.008880</td>\n",
              "      <td>0.000402</td>\n",
              "      <td>0.001908</td>\n",
              "      <td>0.000130</td>\n",
              "      <td>4</td>\n",
              "      <td>3</td>\n",
              "      <td>False</td>\n",
              "      <td>{'bootstrap': False, 'max_features': 4, 'n_est...</td>\n",
              "      <td>-12.311934</td>\n",
              "      <td>-24.368916</td>\n",
              "      <td>-17.044335</td>\n",
              "      <td>-15.876996</td>\n",
              "      <td>-22.808528</td>\n",
              "      <td>-18.482142</td>\n",
              "      <td>4.478778</td>\n",
              "      <td>15</td>\n",
              "      <td>-6.191950e-05</td>\n",
              "      <td>-2.718273e-30</td>\n",
              "      <td>-2.896560e-30</td>\n",
              "      <td>-2.779330e-30</td>\n",
              "      <td>-3.206573e-30</td>\n",
              "      <td>-1.238390e-05</td>\n",
              "      <td>2.476780e-05</td>\n",
              "    </tr>\n",
              "    <tr>\n",
              "      <th>17</th>\n",
              "      <td>0.022371</td>\n",
              "      <td>0.000499</td>\n",
              "      <td>0.002483</td>\n",
              "      <td>0.000198</td>\n",
              "      <td>4</td>\n",
              "      <td>10</td>\n",
              "      <td>False</td>\n",
              "      <td>{'bootstrap': False, 'max_features': 4, 'n_est...</td>\n",
              "      <td>-13.194952</td>\n",
              "      <td>-14.745009</td>\n",
              "      <td>-12.013406</td>\n",
              "      <td>-10.683422</td>\n",
              "      <td>-19.041635</td>\n",
              "      <td>-13.935685</td>\n",
              "      <td>2.882596</td>\n",
              "      <td>3</td>\n",
              "      <td>-5.572755e-06</td>\n",
              "      <td>-1.031625e-29</td>\n",
              "      <td>-1.074365e-29</td>\n",
              "      <td>-1.091217e-29</td>\n",
              "      <td>-1.088823e-29</td>\n",
              "      <td>-1.114551e-06</td>\n",
              "      <td>2.229102e-06</td>\n",
              "    </tr>\n",
              "  </tbody>\n",
              "</table>\n",
              "</div>"
            ],
            "text/plain": [
              "    mean_fit_time  std_fit_time  ...  mean_train_score  std_train_score\n",
              "0        0.009315      0.002096  ...     -6.115194e+00     1.440198e+00\n",
              "1        0.019372      0.000515  ...     -3.325166e+00     3.979124e-01\n",
              "2        0.053274      0.001843  ...     -2.287085e+00     1.954020e-01\n",
              "3        0.008205      0.000832  ...     -6.477660e+00     9.041905e-01\n",
              "4        0.021650      0.000667  ...     -3.050291e+00     1.534204e-01\n",
              "5        0.060183      0.003200  ...     -2.149959e+00     1.730654e-01\n",
              "6        0.009184      0.000156  ...     -5.610141e+00     1.153172e+00\n",
              "7        0.022957      0.000559  ...     -2.738447e+00     2.259424e-01\n",
              "8        0.065315      0.002032  ...     -2.001598e+00     1.348666e-01\n",
              "9        0.009949      0.000239  ...     -5.268593e+00     5.924595e-01\n",
              "10       0.027094      0.000667  ...     -2.678553e+00     1.961365e-01\n",
              "11       0.073090      0.001630  ...     -1.995310e+00     9.283171e-02\n",
              "12       0.007443      0.000335  ...     -2.201582e-05     4.403165e-05\n",
              "13       0.017765      0.000545  ...     -1.981424e-06     3.962848e-06\n",
              "14       0.007629      0.000120  ...     -2.901413e-30     1.682944e-31\n",
              "15       0.020889      0.000940  ...     -1.066315e-29     2.377504e-31\n",
              "16       0.008880      0.000402  ...     -1.238390e-05     2.476780e-05\n",
              "17       0.022371      0.000499  ...     -1.114551e-06     2.229102e-06\n",
              "\n",
              "[18 rows x 23 columns]"
            ]
          },
          "metadata": {
            "tags": []
          },
          "execution_count": 42
        }
      ]
    },
    {
      "cell_type": "code",
      "metadata": {
        "id": "lBrHUsEtW6Cu",
        "colab_type": "code",
        "outputId": "f7746973-5bbb-426f-8093-3988ffe79f12",
        "colab": {
          "base_uri": "https://localhost:8080/",
          "height": 386
        }
      },
      "source": [
        "from sklearn.model_selection import RandomizedSearchCV\n",
        "from scipy.stats import randint\n",
        "\n",
        "param_distribs = {\n",
        "        'n_estimators': randint(low=1, high=200),\n",
        "        'max_features': randint(low=1, high=8),\n",
        "    }\n",
        "\n",
        "forest_reg = RandomForestRegressor(random_state=42)\n",
        "rnd_search = RandomizedSearchCV(forest_reg, param_distributions=param_distribs,\n",
        "                                n_iter=10, cv=5, scoring='neg_mean_squared_error', random_state=42)\n",
        "rnd_search.fit(housing_prepared, housing_labels)"
      ],
      "execution_count": 43,
      "outputs": [
        {
          "output_type": "execute_result",
          "data": {
            "text/plain": [
              "RandomizedSearchCV(cv=5, error_score=nan,\n",
              "                   estimator=RandomForestRegressor(bootstrap=True,\n",
              "                                                   ccp_alpha=0.0,\n",
              "                                                   criterion='mse',\n",
              "                                                   max_depth=None,\n",
              "                                                   max_features='auto',\n",
              "                                                   max_leaf_nodes=None,\n",
              "                                                   max_samples=None,\n",
              "                                                   min_impurity_decrease=0.0,\n",
              "                                                   min_impurity_split=None,\n",
              "                                                   min_samples_leaf=1,\n",
              "                                                   min_samples_split=2,\n",
              "                                                   min_weight_fraction_leaf=0.0,\n",
              "                                                   n_estimators=100,\n",
              "                                                   n_jobs=None, oob_score=Fals...\n",
              "                                                   warm_start=False),\n",
              "                   iid='deprecated', n_iter=10, n_jobs=None,\n",
              "                   param_distributions={'max_features': <scipy.stats._distn_infrastructure.rv_frozen object at 0x7f9c17b44080>,\n",
              "                                        'n_estimators': <scipy.stats._distn_infrastructure.rv_frozen object at 0x7f9c17b440f0>},\n",
              "                   pre_dispatch='2*n_jobs', random_state=42, refit=True,\n",
              "                   return_train_score=False, scoring='neg_mean_squared_error',\n",
              "                   verbose=0)"
            ]
          },
          "metadata": {
            "tags": []
          },
          "execution_count": 43
        }
      ]
    },
    {
      "cell_type": "code",
      "metadata": {
        "id": "cEIdxSajXR29",
        "colab_type": "code",
        "outputId": "78b05974-8514-44eb-f3a7-4a1c569a8f50",
        "colab": {
          "base_uri": "https://localhost:8080/",
          "height": 185
        }
      },
      "source": [
        "cvres = rnd_search.cv_results_\n",
        "for mean_score, params in zip(cvres[\"mean_test_score\"], cvres[\"params\"]):\n",
        "    print(np.sqrt(-mean_score), params)"
      ],
      "execution_count": 44,
      "outputs": [
        {
          "output_type": "stream",
          "text": [
            "3.6876360188825386 {'max_features': 7, 'n_estimators': 180}\n",
            "3.908728044508332 {'max_features': 5, 'n_estimators': 15}\n",
            "3.71295523693978 {'max_features': 3, 'n_estimators': 72}\n",
            "3.8141231331419205 {'max_features': 5, 'n_estimators': 21}\n",
            "3.721043762754497 {'max_features': 7, 'n_estimators': 122}\n",
            "3.7142024827630173 {'max_features': 3, 'n_estimators': 75}\n",
            "3.7057129817665864 {'max_features': 3, 'n_estimators': 88}\n",
            "3.627176442500538 {'max_features': 5, 'n_estimators': 100}\n",
            "3.717044905502202 {'max_features': 3, 'n_estimators': 150}\n",
            "4.988265149080476 {'max_features': 5, 'n_estimators': 2}\n"
          ],
          "name": "stdout"
        }
      ]
    },
    {
      "cell_type": "code",
      "metadata": {
        "id": "gUM3wLN3XZ9l",
        "colab_type": "code",
        "outputId": "f12862d5-ef3e-4eff-e7bc-982528953e34",
        "colab": {
          "base_uri": "https://localhost:8080/",
          "height": 235
        }
      },
      "source": [
        "feature_importances = grid_search.best_estimator_.feature_importances_\n",
        "#cat_encoder = cat_pipeline.named_steps[\"cat_encoder\"] # old solution\n",
        "#cat_encoder = full_pipeline.named_transformers_[\"cat\"]\n",
        "#cat_one_hot_attribs = list(cat_encoder.categories_[0])\n",
        "attributes = [\"CRIM\",\"ZN\",\"INDUS\",\"CHAS\",\"NOX\",\"RM\",\"AGE\",\"DIS\",\"RAD\",\"TAX\",\"PTRATIO\",\"B\",\"LSTAT\",\"MEDV\"]\n",
        "sorted(zip(feature_importances, attributes), reverse=True)"
      ],
      "execution_count": 45,
      "outputs": [
        {
          "output_type": "execute_result",
          "data": {
            "text/plain": [
              "[(0.3778866880769631, 'RM'),\n",
              " (0.29864333340619226, 'LSTAT'),\n",
              " (0.05918837854862702, 'DIS'),\n",
              " (0.05774893987035363, 'PTRATIO'),\n",
              " (0.048737381314613186, 'CRIM'),\n",
              " (0.04398492702214148, 'INDUS'),\n",
              " (0.02921108536079127, 'NOX'),\n",
              " (0.027473471485069085, 'AGE'),\n",
              " (0.021978060307266754, 'TAX'),\n",
              " (0.019321663136088758, 'B'),\n",
              " (0.007964826035290262, 'RAD'),\n",
              " (0.0062255004760482895, 'CHAS'),\n",
              " (0.0016357449605549196, 'ZN')]"
            ]
          },
          "metadata": {
            "tags": []
          },
          "execution_count": 45
        }
      ]
    },
    {
      "cell_type": "code",
      "metadata": {
        "id": "-2u8jFhdY-i-",
        "colab_type": "code",
        "outputId": "5c7508ca-c938-4406-9294-38d4de8f6f44",
        "colab": {
          "base_uri": "https://localhost:8080/",
          "height": 34
        }
      },
      "source": [
        "final_model = grid_search.best_estimator_\n",
        "\n",
        "X_test = test_set.drop(\"MEDV\", axis=1)\n",
        "y_test = test_set[\"MEDV\"].copy()\n",
        "\n",
        "#X_test_prepared = full_pipeline.transform(X_test)\n",
        "#final_predictions = final_model.predict(X_test_prepared)\n",
        "\n",
        "final_mse = mean_squared_error(y_test, final_model.predict(X_test))\n",
        "final_rmse = np.sqrt(final_mse)\n",
        "final_rmse\n"
      ],
      "execution_count": 48,
      "outputs": [
        {
          "output_type": "execute_result",
          "data": {
            "text/plain": [
              "2.953709532096885"
            ]
          },
          "metadata": {
            "tags": []
          },
          "execution_count": 48
        }
      ]
    }
  ]
}