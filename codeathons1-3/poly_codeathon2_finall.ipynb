{
 "cells": [
  {
   "cell_type": "markdown",
   "metadata": {
    "colab_type": "text",
    "id": "s-RzEZEBR10z"
   },
   "source": [
    "# Codeathon 2: predicting handwritten digits"
   ]
  },
  {
   "cell_type": "code",
   "execution_count": 2,
   "metadata": {
    "colab": {},
    "colab_type": "code",
    "id": "ujitZUYeR101"
   },
   "outputs": [],
   "source": [
    "# data import\n",
    "import os\n",
    "import numpy as np\n",
    "import matplotlib\n",
    "import matplotlib.pyplot as plt\n",
    "import pandas as pd\n",
    "from sklearn.datasets import fetch_openml\n",
    "from sklearn.preprocessing import StandardScaler\n",
    "from sklearn.model_selection import RandomizedSearchCV\n",
    "from sklearn.svm import SVC\n",
    "from scipy.stats import randint, uniform\n",
    "\n",
    "mnist = fetch_openml('mnist_784', version=1)\n",
    "mnist.keys()\n",
    "X, y = mnist[\"data\"], mnist[\"target\"]\n",
    "\n",
    "\n"
   ]
  },
  {
   "cell_type": "code",
   "execution_count": 25,
   "metadata": {
    "colab": {},
    "colab_type": "code",
    "id": "lgKcgwrg-qim"
   },
   "outputs": [],
   "source": [
    "# train test set split\n",
    "from sklearn.model_selection import train_test_split\n",
    "\n",
    "X_train, X_test, y_train, y_test = train_test_split(X, y, test_size=0.1, random_state = 42, stratify=y)\n",
    "\n"
   ]
  },
  {
   "cell_type": "code",
   "execution_count": 26,
   "metadata": {
    "colab": {},
    "colab_type": "code",
    "id": "e-DJO7G8CSoL"
   },
   "outputs": [],
   "source": [
    "from sklearn.model_selection import StratifiedShuffleSplit\n",
    "split = StratifiedShuffleSplit(n_splits=1, test_size=0.88, random_state=42)\n",
    "for train_index, test_index in split.split(X_train, y_train):\n",
    "    X_train_strat = X[train_index]\n",
    "    y_train_strat = y[train_index]"
   ]
  },
  {
   "cell_type": "code",
   "execution_count": 4,
   "metadata": {
    "colab": {},
    "colab_type": "code",
    "id": "cKSilUykmZUg"
   },
   "outputs": [],
   "source": [
    "# scaler = StandardScaler()\n",
    "# X_train = scaler.fit_transform(X_train)\n",
    "# X_train,\n",
    "# X_test = scaler.fit_transform(X_test)"
   ]
  },
  {
   "cell_type": "code",
   "execution_count": null,
   "metadata": {
    "colab": {
     "base_uri": "https://localhost:8080/",
     "height": 243
    },
    "colab_type": "code",
    "id": "Syd8repjbBri",
    "outputId": "03f663ea-478a-46b1-b586-b9e03419eade"
   },
   "outputs": [
    {
     "name": "stdout",
     "output_type": "stream",
     "text": [
      "Fitting 3 folds for each of 20 candidates, totalling 60 fits\n"
     ]
    },
    {
     "name": "stderr",
     "output_type": "stream",
     "text": [
      "[Parallel(n_jobs=6)]: Using backend LokyBackend with 6 concurrent workers.\n",
      "[Parallel(n_jobs=6)]: Done  38 tasks      | elapsed:  2.8min\n"
     ]
    }
   ],
   "source": [
    "#using randomizedSearchCV to train hyper parameters\n",
    "rnd = RandomizedSearchCV(SVC(kernel=\"poly\"), \n",
    "                         param_distributions={\"C\": randint(5,20),\"degree\":randint(2,6),\"coef0\":uniform(1,3)}, n_iter=20,\n",
    "                         n_jobs=6, cv=3, random_state=42, verbose=1)\n",
    "\n",
    "rnd.fit(X_train_strat, y_train_strat)\n"
   ]
  },
  {
   "cell_type": "code",
   "execution_count": null,
   "metadata": {
    "colab": {},
    "colab_type": "code",
    "id": "0SaWuqLveQ8_"
   },
   "outputs": [],
   "source": [
    "bestmodel = rnd.best_estimator_"
   ]
  },
  {
   "cell_type": "code",
   "execution_count": 11,
   "metadata": {
    "colab": {
     "base_uri": "https://localhost:8080/",
     "height": 35
    },
    "colab_type": "code",
    "id": "9kEWK2F9b1nu",
    "outputId": "02ac7fa4-4cb0-4cc5-955f-94a52d5fd2e5"
   },
   "outputs": [
    {
     "name": "stdout",
     "output_type": "stream",
     "text": [
      "accuracy: 0.9641428571428572\n"
     ]
    }
   ],
   "source": [
    "# from sklearn.metrics import accuracy_score\n",
    "# y_pred = bestmodel.predict(X_test)\n",
    "# print(\"accuracy:\", accuracy_score(y_test, y_pred))"
   ]
  },
  {
   "cell_type": "code",
   "execution_count": null,
   "metadata": {
    "colab": {
     "base_uri": "https://localhost:8080/",
     "height": 87
    },
    "colab_type": "code",
    "id": "feasnFj2JRzW",
    "outputId": "27b6332d-b2ea-42cf-89b6-88928fc8a372"
   },
   "outputs": [],
   "source": [
    "bestmodel"
   ]
  },
  {
   "cell_type": "code",
   "execution_count": 30,
   "metadata": {
    "colab": {},
    "colab_type": "code",
    "id": "nL7H_oHcDdnu"
   },
   "outputs": [],
   "source": [
    "#train parameters\n",
    "from sklearn.multiclass import OneVsRestClassifier\n",
    "# finalmodel = OneVsRestClassifier(SVC(kernel=\"poly\",random_state=42, C=15,degree=2,coef0=1))\n",
    "# finalmodel = OneVsRestClassifier(bestmodel)\n",
    "clf = bestmodel.fit(X_train, y_train)\n",
    "# clf = finalmodel.fit(X_train, y_train)"
   ]
  },
  {
   "cell_type": "code",
   "execution_count": 31,
   "metadata": {
    "colab": {
     "base_uri": "https://localhost:8080/",
     "height": 35
    },
    "colab_type": "code",
    "id": "053jKXcPIZGB",
    "outputId": "249c5ae0-c7d6-4d11-ad94-0b45215229af"
   },
   "outputs": [
    {
     "name": "stdout",
     "output_type": "stream",
     "text": [
      "accuracy: 0.9798571428571429\n"
     ]
    }
   ],
   "source": [
    "y_predfinal = clf.predict(X_test)\n",
    "print(\"accuracy:\", accuracy_score(y_test, y_predfinal))"
   ]
  },
  {
   "cell_type": "code",
   "execution_count": null,
   "metadata": {},
   "outputs": [],
   "source": []
  },
  {
   "cell_type": "code",
   "execution_count": null,
   "metadata": {},
   "outputs": [],
   "source": []
  }
 ],
 "metadata": {
  "colab": {
   "collapsed_sections": [],
   "name": "poly_codeathon2.ipynb",
   "provenance": []
  },
  "kernelspec": {
   "display_name": "Python 3",
   "language": "python",
   "name": "python3"
  },
  "language_info": {
   "codemirror_mode": {
    "name": "ipython",
    "version": 3
   },
   "file_extension": ".py",
   "mimetype": "text/x-python",
   "name": "python",
   "nbconvert_exporter": "python",
   "pygments_lexer": "ipython3",
   "version": "3.7.3"
  }
 },
 "nbformat": 4,
 "nbformat_minor": 1
}
